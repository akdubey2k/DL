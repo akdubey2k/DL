{
 "cells": [
  {
   "cell_type": "markdown",
   "id": "3a8c8e42",
   "metadata": {},
   "source": [
    "# Quantization aware training in Keras example\n",
    "\n",
    "Credit : https://www.tensorflow.org/model_optimization/guide/quantization/training_example\n"
   ]
  }
 ],
 "metadata": {
  "kernelspec": {
   "display_name": "Python 3 (ipykernel)",
   "language": "python",
   "name": "python3"
  },
  "language_info": {
   "codemirror_mode": {
    "name": "ipython",
    "version": 3
   },
   "file_extension": ".py",
   "mimetype": "text/x-python",
   "name": "python",
   "nbconvert_exporter": "python",
   "pygments_lexer": "ipython3",
   "version": "3.9.7"
  }
 },
 "nbformat": 4,
 "nbformat_minor": 5
}
