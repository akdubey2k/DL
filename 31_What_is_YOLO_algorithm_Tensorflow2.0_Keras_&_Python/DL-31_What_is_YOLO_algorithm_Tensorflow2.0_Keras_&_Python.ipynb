{
 "cells": [
  {
   "cell_type": "markdown",
   "id": "3c1d729d",
   "metadata": {},
   "source": [
    "# What is YOLO algorithm? | Deep Learning Tutorial 31 (Tensorflow, Keras & Python)\n",
    "\n",
    "**YOLO (You only look once)** is a state of the art <u>object detection algorithm</u> that has become main method of detecting objects in the field of **computer vision.** Previously people used techniques such as **sliding window object detection, R CNN, Fast R CNN and Faster R CNN.** But after its invention in 2015, **YOLO** has become an industry standard for object detection due to its **_speed and accuracy._** In this video we will understand the theory behind how exactly **YOLO algorithm** works. In next video we will write code <u>to detect objects using **YOLO** framework.</u>\n",
    "\n",
    "Credit: https://www.youtube.com/watch?v=ag3DLKsl2vk&list=PLeo1K3hjS3uu7CxAacxVndI4bE_o3BDtO&index=31\n",
    "#### Owner: Codebasics"
   ]
  },
  {
   "cell_type": "markdown",
   "id": "f1cff55e",
   "metadata": {},
   "source": [
    "# Sliding Window Oject Detection => <font color='blue'>R CNN -> Fast R CNN</font> => <font color='brown'>Faster R CNN</font> -> <font color='green'>YOLO</font>"
   ]
  }
 ],
 "metadata": {
  "kernelspec": {
   "display_name": "Python 3 (ipykernel)",
   "language": "python",
   "name": "python3"
  },
  "language_info": {
   "codemirror_mode": {
    "name": "ipython",
    "version": 3
   },
   "file_extension": ".py",
   "mimetype": "text/x-python",
   "name": "python",
   "nbconvert_exporter": "python",
   "pygments_lexer": "ipython3",
   "version": "3.9.7"
  }
 },
 "nbformat": 4,
 "nbformat_minor": 5
}
