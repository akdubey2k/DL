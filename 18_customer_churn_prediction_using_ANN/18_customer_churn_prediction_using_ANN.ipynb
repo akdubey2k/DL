{
 "cells": [
  {
   "cell_type": "markdown",
   "id": "3ea98c5a",
   "metadata": {},
   "source": [
    "Based on\n",
    "<font color='black' size='6'>Telco Customer Churn</font>\n",
    "\n",
    "<font color='gray' size='4'>Focused customer retention programs</font>\n",
    "\n",
    "<font color='silver' size='3'>**Credit**: https://www.kaggle.com/datasets/blastchar/telco-customer-churn/data </font>"
   ]
  },
  {
   "cell_type": "markdown",
   "id": "240ece69",
   "metadata": {},
   "source": [
    "<font color='black' size='6'>About Dataset</font>\n",
    "<font color='gray' size='3'>\n",
    "Context\n",
    "\"Predict behavior to retain customers. You can analyze all relevant customer data and develop focused customer retention programs.\" [IBM Sample Data Sets]\n",
    "\n",
    "## Content\n",
    "Each row represents a customer, each column contains customer’s attributes described on the column Metadata.\n",
    "\n",
    "**The data set includes information about:**\n",
    "\n",
    "* Customers who left within the last month – the column is called Churn\n",
    "* Services that each customer has signed up for – phone, multiple lines, internet, online security, online backup, device protection, tech support, and streaming TV and movies\n",
    "* Customer account information – how long they’ve been a customer, contract, payment method, paperless billing, monthly charges, and total charges\n",
    "* Demographic info about customers – gender, age range, and if they have partners and dependents\n",
    "\n",
    "**Inspiration**\n",
    "To explore this type of models and learn more about the subject.\n",
    "</font>\n",
    "\n",
    "<font color='silver' size='3'>**New version from IBM:**\n",
    "https://community.ibm.com/community/user/businessanalytics/blogs/steven-macko/2019/07/11/telco-customer-churn-1113\n",
    "</font>"
   ]
  },
  {
   "cell_type": "markdown",
   "id": "e3c75a21",
   "metadata": {},
   "source": [
    "<font size='3'> **Credit:** https://www.youtube.com/watch?v=MSBY28IJ47U&list=PLeo1K3hjS3uu7CxAacxVndI4bE_o3BDtO&index=19"
   ]
  },
  {
   "cell_type": "markdown",
   "id": "07cb98d3",
   "metadata": {},
   "source": [
    "<font size='3'>**jump to:** ANN/18_customer_churn_prediction_using_ANN/"
   ]
  },
  {
   "cell_type": "markdown",
   "id": "4deb68d9",
   "metadata": {},
   "source": [
    "<font color='gray' size='4'>**churn** - <font size='3'>stir vigorously the dataset in order to filter the customers, who are retain and left the telecommumication company."
   ]
  }
 ],
 "metadata": {
  "kernelspec": {
   "display_name": "Python 3 (ipykernel)",
   "language": "python",
   "name": "python3"
  },
  "language_info": {
   "codemirror_mode": {
    "name": "ipython",
    "version": 3
   },
   "file_extension": ".py",
   "mimetype": "text/x-python",
   "name": "python",
   "nbconvert_exporter": "python",
   "pygments_lexer": "ipython3",
   "version": "3.11.4"
  }
 },
 "nbformat": 4,
 "nbformat_minor": 5
}
