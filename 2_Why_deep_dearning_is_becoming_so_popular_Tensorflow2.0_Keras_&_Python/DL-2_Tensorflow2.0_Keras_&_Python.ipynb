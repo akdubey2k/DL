{
 "cells": [
  {
   "cell_type": "markdown",
   "id": "4435bd55",
   "metadata": {},
   "source": [
    "# Why deep learning is becoming so popular? | Deep Learning Tutorial 2 (Tensorflow2.0, Keras & Python)\n",
    "\n",
    "This video explains four reasons why deep learning has become so popular in past few years.<br>\n",
    "In this deep learning tutorial python, I will cover following things in this video,\n",
    "1. 00:00 Introduction \n",
    "2. 00:24 Data growth\n",
    "3. 01:25 Hardware advancements\n",
    "4. 02:40 Python and opensource ecosystem\n",
    "5. 04:00 Cloud and AI boom\n",
    "\n",
    "I remember I did a project in my college 17 years ago and implemented **error backpropogation algorithm** in C++. <br>\n",
    "\n",
    "Why is it that **deep learning** is taking off in recent years? The **data growth** due to **IT adoption, IOT devices, social media** is generating so much **_truth_** so that **deep learning algorithms** can really produce useful results. <br>\n",
    "\n",
    "**Neural network and deep learning** shows its real power when training data size is huge. Due to advancements in hardwares such as GPU and TPUs one can run so many computations in parallel making it possible to run deep learning training in a reasonable amount of time. <br>\n",
    "\n",
    "**Python and opensource ecosystem** on the other hand reduced the barries for people who don't know programming and they can  try python with **pytorch or tensorflow** and write **deep learning** programs easily. One doesn't need to buy expensive hardware, they can rent a machine in a cloud and can still write machine learning programs. <br>\n",
    "\n",
    "There is a prevalent **AI boom** in the businesses nowadays where all business executives want to benefit from artificial intelligence. This further accelerates the growth of deep learning.\n",
    "\n",
    "Credit: https://www.youtube.com/watch?v=yfsTZbwgMSE&list=PLeo1K3hjS3uu7CxAacxVndI4bE_o3BDtO&index=2\n",
    "#### Owner: Codebasics"
   ]
  }
 ],
 "metadata": {
  "kernelspec": {
   "display_name": "Python 3 (ipykernel)",
   "language": "python",
   "name": "python3"
  },
  "language_info": {
   "codemirror_mode": {
    "name": "ipython",
    "version": 3
   },
   "file_extension": ".py",
   "mimetype": "text/x-python",
   "name": "python",
   "nbconvert_exporter": "python",
   "pygments_lexer": "ipython3",
   "version": "3.9.7"
  }
 },
 "nbformat": 4,
 "nbformat_minor": 5
}
