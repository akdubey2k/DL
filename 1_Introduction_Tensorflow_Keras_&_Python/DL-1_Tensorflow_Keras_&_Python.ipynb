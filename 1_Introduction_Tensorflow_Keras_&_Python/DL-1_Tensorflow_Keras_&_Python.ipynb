{
 "cells": [
  {
   "cell_type": "markdown",
   "id": "75fa8fb3",
   "metadata": {},
   "source": [
    "# Introduction -Deep Learning Tutorial 1 (Tensorflow Tutorial, Keras & Python)\n",
    "\n",
    "With this video, I am beginning a new deep learning tutorial series for total beginners. In this deep learning tutorial python, I will cover following things in this series,\n",
    "\n",
    "1. Explain neural network concepts in most easiest way\n",
    "2. Go over math if needed, otherwise keep the tutorials simple and easy\n",
    "3. Provide exercises that you can practice on\n",
    "4. Use python, keras and tensorflow mainly. I might cover pytorch as well\n",
    "5. Cover convolutional neural network (CNN) for image and video processing\n",
    "6. Cover recurrent neural network (RNN) for sequential analysis and natural language processing (NLP)\n",
    "\n",
    "__🔖 Hashtags 🔖__\n",
    "#deeplearningwithpython #deeplearning #deeplearningtensorflow #deeplearningtutorialpython #deeplearningtutorial #deeplearningbegininer\n",
    "\n",
    "\n",
    "__Next video:__ https://www.youtube.com/watch?v=yfsTZbwgMSE&list=PLeo1K3hjS3uu7CxAacxVndI4bE_o3BDtO\n",
    "\n",
    "__Playlist for this deep learning series:__ https://www.youtube.com/playlist?list=PLeo1K3hjS3uu7CxAacxVndI4bE_o3BDtO\n",
    "\n",
    "__Prerequisites for this series:__<br>\n",
    "   1: Python tutorials (first 16 videos): https://www.youtube.com/playlist?list=PLeo1K3hjS3uv5U-Lmlnucd7gqF-3ehIh0 <br>\n",
    "   2: Pandas tutorials(first 8 videos): https://www.youtube.com/playlist?list=PLeo1K3hjS3uuASpe-1LjfG5f14Bnozjwy <br>\n",
    "   3: Machine learning playlist (first 16 videos): https://www.youtube.com/playlist?list=PLeo1K3hjS3uvCeTYTeyfe0-rN5r8zn9rw <br>\n",
    "\n",
    "\n",
    "Special thanks to __NVIDIA__ for gifting me __Titan RTX GPU.__ This is Nvidia's top of the line, very powerful GPU that can make running deep learning jobs super fast. I am planning to make tutorials in future where I can utilize this GPU to benchmark deep learning training jobs. Here is more information on this GPU: https://www.nvidia.com/en-us/deep-learning-ai/products/titan-rtx/\n",
    "\n",
    "Keywords: Tensorflow tutorial, Deep Learning tutorials, TensorFlow tutorial for beginners,  deep learning tutorials for beginners\n",
    "\n",
    "\n",
    "__Website:__ https://www.skillbasics.com/ <br>\n",
    "__Facebook:__ https://www.facebook.com/codebasicshub <br>\n",
    "__Twitter:__ https://twitter.com/codebasicshub <br>\n",
    "\n",
    "\n",
    "Credit: https://www.youtube.com/watch?v=Mubj_fqiAv8&list=PLeo1K3hjS3uu7CxAacxVndI4bE_o3BDtO&t=0s\n",
    "\n",
    "\n",
    "#### Owner: Codebasics"
   ]
  }
 ],
 "metadata": {
  "kernelspec": {
   "display_name": "Python 3 (ipykernel)",
   "language": "python",
   "name": "python3"
  },
  "language_info": {
   "codemirror_mode": {
    "name": "ipython",
    "version": 3
   },
   "file_extension": ".py",
   "mimetype": "text/x-python",
   "name": "python",
   "nbconvert_exporter": "python",
   "pygments_lexer": "ipython3",
   "version": "3.9.7"
  }
 },
 "nbformat": 4,
 "nbformat_minor": 5
}
