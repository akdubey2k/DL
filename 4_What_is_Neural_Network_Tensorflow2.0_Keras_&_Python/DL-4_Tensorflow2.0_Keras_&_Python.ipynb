{
 "cells": [
  {
   "cell_type": "markdown",
   "id": "75fcc20b",
   "metadata": {},
   "source": [
    "# What is a Neural Network | Deep Learning Tutorial 4 (Tensorflow2.0, Keras & Python)\n",
    "\n",
    "What is a __neural network?:__ Very simple explanation of a neural network using an analogy that even a high school student can understand it easily. what is a __neural network exactly?__, I will discuss using a simple example various concepts such as what is neuron, __error backpropogation algorithm, forward pass, backward pass, neural network training etc.__\n",
    "\n",
    "__3b1b Video on neural net with some math:__ https://www.youtube.com/watch?v=aircAruvnKk\n",
    "\n",
    "Credit: https://www.youtube.com/watch?v=ER2It2mIagI&list=PLeo1K3hjS3uu7CxAacxVndI4bE_o3BDtO&index=4\n",
    "#### Owner: Codebasics"
   ]
  },
  {
   "cell_type": "code",
   "execution_count": 1,
   "id": "74af75ca",
   "metadata": {},
   "outputs": [],
   "source": [
    "import tensorflow as tf"
   ]
  }
 ],
 "metadata": {
  "kernelspec": {
   "display_name": "Python 3 (ipykernel)",
   "language": "python",
   "name": "python3"
  },
  "language_info": {
   "codemirror_mode": {
    "name": "ipython",
    "version": 3
   },
   "file_extension": ".py",
   "mimetype": "text/x-python",
   "name": "python",
   "nbconvert_exporter": "python",
   "pygments_lexer": "ipython3",
   "version": "3.9.7"
  }
 },
 "nbformat": 4,
 "nbformat_minor": 5
}
