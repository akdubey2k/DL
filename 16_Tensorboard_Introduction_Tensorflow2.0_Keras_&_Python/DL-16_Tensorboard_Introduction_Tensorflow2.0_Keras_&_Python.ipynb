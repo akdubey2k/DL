{
 "cells": [
  {
   "cell_type": "markdown",
   "id": "2e41c954",
   "metadata": {},
   "source": [
    "# Tensorboard Introduction | Deep Learning Tutorial 16 (Tensorflow2.0, Keras & Python)\n",
    "\n",
    "Often it becomes necessary to see what's going on inside your neural network. **Tensorboard** is a tool that comes with **tensorflow** and it allows you to **visualize neural network** as well as how it trains itself. This tool is very helpful in debugging issues too. We will use the notebook that we created in previous videos for **_recognizing handwritten digits and visualize accuracy, loss with every epoch using tensorboard._** We will also look at the visual graphs of neural network along with some internal computations.\n",
    "\n",
    "Credit: https://www.youtube.com/watch?v=9SdLOcGnebU&list=PLeo1K3hjS3uu7CxAacxVndI4bE_o3BDtO&index=16\n",
    "#### Owner: Codebasics"
   ]
  }
 ],
 "metadata": {
  "kernelspec": {
   "display_name": "Python 3 (ipykernel)",
   "language": "python",
   "name": "python3"
  },
  "language_info": {
   "codemirror_mode": {
    "name": "ipython",
    "version": 3
   },
   "file_extension": ".py",
   "mimetype": "text/x-python",
   "name": "python",
   "nbconvert_exporter": "python",
   "pygments_lexer": "ipython3",
   "version": "3.9.7"
  }
 },
 "nbformat": 4,
 "nbformat_minor": 5
}
