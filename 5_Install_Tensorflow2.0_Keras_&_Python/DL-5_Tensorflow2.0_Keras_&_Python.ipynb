{
 "cells": [
  {
   "cell_type": "markdown",
   "id": "bae1fee2",
   "metadata": {},
   "source": [
    "# Install tensorflow 2.0 | Deep Learning Tutorial 5 (Tensorflow Tutorial, Keras & Python)\n",
    "\n",
    "I will show how to install tensorflow 2.0 on windows computer. I will be installing it on top of anaconda. \n",
    "\n",
    "__Video to install anaconda on windows:__ https://www.youtube.com/watch?v=Vt6loGK9Adc\n",
    "\n",
    "Credit: https://www.youtube.com/watch?v=VC-EliTgMEM&list=PLeo1K3hjS3uu7CxAacxVndI4bE_o3BDtO&index=5\n",
    "#### Owner: Codebasics"
   ]
  },
  {
   "cell_type": "code",
   "execution_count": 1,
   "id": "411a20d3",
   "metadata": {},
   "outputs": [],
   "source": [
    "import tensorflow"
   ]
  }
 ],
 "metadata": {
  "kernelspec": {
   "display_name": "Python 3 (ipykernel)",
   "language": "python",
   "name": "python3"
  },
  "language_info": {
   "codemirror_mode": {
    "name": "ipython",
    "version": 3
   },
   "file_extension": ".py",
   "mimetype": "text/x-python",
   "name": "python",
   "nbconvert_exporter": "python",
   "pygments_lexer": "ipython3",
   "version": "3.9.7"
  }
 },
 "nbformat": 4,
 "nbformat_minor": 5
}
